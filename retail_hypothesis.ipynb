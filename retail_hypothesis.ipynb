{
 "cells": [
  {
   "cell_type": "code",
   "execution_count": 1,
   "id": "1d164aef",
   "metadata": {},
   "outputs": [
    {
     "name": "stderr",
     "output_type": "stream",
     "text": [
      "\n",
      "KeyboardInterrupt\n",
      "\n"
     ]
    }
   ],
   "source": [
    "import pandas as pd\n",
    "import numpy as np\n",
    "import seaborn as sns\n",
    "import plotly.express as px\n",
    "from IPython.core.display import display, HTML, clear_output\n",
    "display(HTML('<style>.container { width:90% !important; }</style>'))\n",
    "display(HTML('<style>.prompt { min-width:10ex !important; }</style>'))\n",
    "display(HTML('<style>div#notebook { font-size:12px !important; }</style>'))\n",
    "\n",
    "pd.set_option('display.max_columns', None)\n",
    "\n"
   ]
  },
  {
   "cell_type": "markdown",
   "id": "2b7a4673",
   "metadata": {},
   "source": [
    "# Выгрузка данных"
   ]
  },
  {
   "cell_type": "code",
   "execution_count": null,
   "id": "c724845b",
   "metadata": {},
   "outputs": [],
   "source": [
    "april = pd.read_csv('svao_april.csv', sep = ';', low_memory=False, memory_map=True)\n",
    "march = pd.read_csv('svao_march.csv', sep = ';', low_memory=False, memory_map=True)\n",
    "febr = pd.read_csv('svao_febr.csv', sep = ';', low_memory=False, memory_map=True)\n",
    "may = pd.read_csv('svao_may.csv', sep = ';', low_memory=False, memory_map=True)\n",
    "june = pd.read_csv('svao_june.csv', sep = ';', low_memory=False, memory_map=True)"
   ]
  },
  {
   "cell_type": "code",
   "execution_count": null,
   "id": "adf6c902",
   "metadata": {},
   "outputs": [],
   "source": [
    "data = pd.concat([febr, march,april,may,june])\n",
    "del febr, march, april, may, june\n",
    "data.date_ch = pd.to_datetime(data.date_ch)\n",
    "data.time_ch = pd.to_datetime(data.time_ch)\n",
    "data['buy_hour'] = data.time_ch.dt.hour\n",
    "data['CheckLineUID'] = data['CheckLineUID'].astype(str).str.zfill(4)\n",
    "data['CheckUID'] = data['CheckUID'].astype(str).str.zfill(4)\n",
    "data.BonusCard_cl = data['BonusCard_cl'].replace('          ', np.nan)\n",
    "data = data.astype({'BonusCard_cl':'str'})\n",
    "pd.set_option('display.float_format', lambda x: '%3.f' % x)"
   ]
  },
  {
   "cell_type": "markdown",
   "id": "2b90b4cd",
   "metadata": {},
   "source": [
    "# Отберем пользователей, которые посещали ВкусВилл в последний раз 30 и более дней назад, чтобы понять причину их ухода из сети + определить выручку, которую они принесли магазину, чтобы в дальнейшем работать с данной информацией"
   ]
  },
  {
   "cell_type": "markdown",
   "id": "afecbcad",
   "metadata": {},
   "source": [
    "Выведем крайнюю дату покупки каждым пользователем"
   ]
  },
  {
   "cell_type": "code",
   "execution_count": null,
   "id": "4e0cd1f5",
   "metadata": {},
   "outputs": [],
   "source": [
    "data_vspom = data.groupby(['BonusCard_cl']).agg(\n",
    "    max_date=('date_ch', 'max')).reset_index()\n",
    "data_vspom.head()"
   ]
  },
  {
   "cell_type": "markdown",
   "id": "14c0397d",
   "metadata": {},
   "source": [
    "Выведем максимальную дату, представленню в DF, положим что отсчет идет именно от нее"
   ]
  },
  {
   "cell_type": "code",
   "execution_count": null,
   "id": "94a56cf4",
   "metadata": {},
   "outputs": [],
   "source": [
    "data_vspom['max_date_global'] = data['date_ch'].max()"
   ]
  },
  {
   "cell_type": "markdown",
   "id": "c2ac8907",
   "metadata": {},
   "source": [
    "Выведем разницу между крайней датой у исходного DataFrame и выведем только те строки, у которых разница >=30 (месяц). P.S: положим, что месяц - крайняя дата, при котором пользователь уходит из сети"
   ]
  },
  {
   "cell_type": "code",
   "execution_count": null,
   "id": "fd2b1438",
   "metadata": {},
   "outputs": [],
   "source": [
    "data_vspom['difference_date'] = data_vspom['max_date_global'] - data_vspom['max_date']\n",
    "data_vspom = data_vspom[data_vspom['difference_date'] >= '30 days']\n",
    "data_vspom.shape\n",
    "#количесвто таких пользователей 180291, что примерно равно половине из тех всех пользователей, у которых есть карта лояльности"
   ]
  },
  {
   "cell_type": "markdown",
   "id": "96cc9193",
   "metadata": {},
   "source": [
    "В рамках нашего исследования лояльными будем считать тех пользователей, которые ходили во ВкусВилл более 2 раз (2 уникальных чека)"
   ]
  },
  {
   "cell_type": "code",
   "execution_count": null,
   "id": "54e107fe",
   "metadata": {},
   "outputs": [],
   "source": [
    "data_retention = data.groupby(['BonusCard_cl'])['CheckUID'].count().reset_index()\n",
    "data_vspom = data_vspom.merge(data_retention, on = 'BonusCard_cl')\n",
    "data_vspom = data_vspom[data_vspom['CheckUID'] >= 2].reset_index(drop = True)\n",
    "del data_retention"
   ]
  },
  {
   "cell_type": "markdown",
   "id": "4f00fcaf",
   "metadata": {},
   "source": [
    "Посмотрим сколько выручки принес пользователь всей сети, чтобы потом определить процент от общей выручки"
   ]
  },
  {
   "cell_type": "code",
   "execution_count": null,
   "id": "e78dd146",
   "metadata": {},
   "outputs": [],
   "source": [
    "data_base_sum = data.groupby('BonusCard_cl')['BaseSum'].sum().reset_index()\n",
    "data_vspom = data_vspom.merge(data_base_sum, on = 'BonusCard_cl', how = 'inner')\n",
    "del data_base_sum\n",
    "294567936.2171673/3155053319.2306204\n",
    "#Пользователи до оттока из сети ВкусВилл принесли порядка 9% выручки (по всем чекам, что дает нам понять о целесообразности исследования данной выборки)"
   ]
  },
  {
   "cell_type": "markdown",
   "id": "5ca3e072",
   "metadata": {},
   "source": [
    "# Проведем ABC анализ для товаров следующим образом: (За основу берём соотношение 80-15-5)\n",
    "    "
   ]
  },
  {
   "cell_type": "markdown",
   "id": "0b63d052",
   "metadata": {},
   "source": [
    "1) Для генеральной совокупности, чтобы определить тренд продуктов в общем"
   ]
  },
  {
   "cell_type": "code",
   "execution_count": null,
   "id": "ec3a4284",
   "metadata": {},
   "outputs": [],
   "source": [
    "z1 = data.groupby('id_tov_cl')['BaseSum'].sum().reset_index().sort_values('BaseSum', ascending = False)\n",
    "z1['total_sum'] = data['BaseSum'].sum()\n",
    "z1['cum_sum'] = z1['BaseSum'].cumsum()\n",
    "z1['percent'] = z1['cum_sum'] / z1['total_sum']\n",
    "z1['group'] = 'C'\n",
    "z1['group'][z1.percent <= 0.8] = \"A\"\n",
    "z1['group'][(z1.percent <= 0.95) & (z1.group != \"A\")] = \"B\""
   ]
  },
  {
   "cell_type": "code",
   "execution_count": null,
   "id": "cc685251",
   "metadata": {},
   "outputs": [],
   "source": [
    "z1.head()"
   ]
  },
  {
   "cell_type": "markdown",
   "id": "4af9df91",
   "metadata": {},
   "source": [
    " 2) Для конкретного магазина, чтобы определить расхождения по сравнению с трендом"
   ]
  },
  {
   "cell_type": "code",
   "execution_count": null,
   "id": "89621fb5",
   "metadata": {
    "scrolled": true
   },
   "outputs": [],
   "source": [
    "z2 = data.groupby(['id_tt_cl','id_tov_cl'])['BaseSum'].sum().reset_index().sort_values(['id_tt_cl','BaseSum'], ascending = [False, False])\n",
    "z_vspom = z2.groupby('id_tt_cl')['BaseSum'].sum().reset_index()\n",
    "z2 = z2.groupby(['id_tt_cl', 'id_tov_cl'])['BaseSum'].sum() \\\n",
    "  .groupby(level=0).cumsum().reset_index().sort_values(['id_tt_cl','id_tov_cl','BaseSum'], ascending = [False,False,False])\n",
    "z2 = z2.merge(z_vspom, on = 'id_tt_cl', how = 'inner')\n",
    "z2 = z2.rename(columns = ({'BaseSum_x': 'cumsum'}))\n",
    "z2 = z2.rename(columns = ({'BaseSum_y': 'total_BaseSum'}))\n",
    "z2['percent'] = z2['cumsum'] / z2['total_BaseSum']\n",
    "z2['store_group'] = 'C'\n",
    "z2['store_group'][z2.percent <= 0.8] = \"A\"\n",
    "z2['store_group'][(z2.percent <= 0.95) & (z2['store_group'] != \"A\")] = \"B\"\n",
    "del z_vspom"
   ]
  },
  {
   "cell_type": "code",
   "execution_count": null,
   "id": "958de83d",
   "metadata": {},
   "outputs": [],
   "source": [
    "z2[z2['cumsum'] == z2['total_BaseSum']].shape\n",
    "#здесь всё правильно посчитано, вывелось 75 магазинов"
   ]
  },
  {
   "cell_type": "code",
   "execution_count": null,
   "id": "79c9c9d7",
   "metadata": {},
   "outputs": [],
   "source": [
    "z2['store_group'].value_counts()"
   ]
  },
  {
   "cell_type": "markdown",
   "id": "e164f842",
   "metadata": {},
   "source": [
    " 3) Для продуктовой корзины каждого человека, чтобы определить предпочтения лояльных пользователей и определить то, что им нравится, определяем по количеству встречаемых продуктов в корзине"
   ]
  },
  {
   "cell_type": "code",
   "execution_count": null,
   "id": "af1fcf12",
   "metadata": {},
   "outputs": [],
   "source": [
    "z3 = data.groupby(['BonusCard_cl','id_tov_cl'])['CheckUID'].count().reset_index().sort_values(['BonusCard_cl','CheckUID'], ascending = [False, False]).reset_index(drop = True)\n",
    "z3 = z3[z3['BonusCard_cl'] != 'nan']\n",
    "z3 = z3.rename(columns = {'CheckUID':'count_CheckUID'})"
   ]
  },
  {
   "cell_type": "code",
   "execution_count": null,
   "id": "986fe1ea",
   "metadata": {},
   "outputs": [],
   "source": [
    "z3.head()"
   ]
  },
  {
   "cell_type": "markdown",
   "id": "f9e0a8af",
   "metadata": {},
   "source": [
    "# Объединим полученные результаты с таблицей интересующих нас магазинов"
   ]
  },
  {
   "cell_type": "code",
   "execution_count": null,
   "id": "20eae26b",
   "metadata": {},
   "outputs": [],
   "source": [
    "data_vspom = data_vspom.merge(z3, on ='BonusCard_cl', how = 'inner')\n",
    "92806901.198194/3155053319.2306204\n",
    "#эти пользователи генерили нам выручку в 3% по всей сети.\n",
    "data_vspom = data_vspom[data_vspom['count_CheckUID'] / data_vspom['CheckUID'] >= 0.25]"
   ]
  },
  {
   "cell_type": "code",
   "execution_count": null,
   "id": "6e00cd87",
   "metadata": {},
   "outputs": [],
   "source": [
    "data_vspom = data_vspom.merge(z1[['id_tov_cl','group']], on ='id_tov_cl', how = 'inner')"
   ]
  },
  {
   "cell_type": "markdown",
   "id": "f803e382",
   "metadata": {},
   "source": [
    "# Перезапишем исходные данные и присоединим информацию по магазинам"
   ]
  },
  {
   "cell_type": "code",
   "execution_count": null,
   "id": "c3ee09db",
   "metadata": {},
   "outputs": [],
   "source": [
    "data = data.merge(data_vspom[['difference_date','BonusCard_cl','id_tov_cl','group','CheckUID','count_CheckUID']], on =['BonusCard_cl','id_tov_cl'])\n",
    "data = data.merge(z2[['id_tt_cl','id_tov_cl','store_group']], on = ['id_tt_cl','id_tov_cl'])"
   ]
  },
  {
   "cell_type": "markdown",
   "id": "ca38d72c",
   "metadata": {},
   "source": [
    "# Посмотрим на пользователей, которые ушли из магазинов из-за смены категории ключевой позиции на полке"
   ]
  },
  {
   "cell_type": "code",
   "execution_count": null,
   "id": "c15195ea",
   "metadata": {},
   "outputs": [],
   "source": [
    "data_top_low = data[(data['group'] != 'C') & (data['store_group'] == 'C')]\n",
    "#4520 строк с продуктами и товарами, где виден переход из лучшей категории в плохую"
   ]
  },
  {
   "cell_type": "markdown",
   "id": "72e69598",
   "metadata": {},
   "source": [
    "Посмотрим на количество категорий, которые были в генеральной совокупности выше категории C"
   ]
  },
  {
   "cell_type": "code",
   "execution_count": null,
   "id": "568be489",
   "metadata": {},
   "outputs": [],
   "source": [
    "data_top_low['group'].value_counts()\n",
    "#как можно заметить, здесь идет отток больше из категорий A"
   ]
  },
  {
   "cell_type": "code",
   "execution_count": null,
   "id": "c805e7bb",
   "metadata": {},
   "outputs": [],
   "source": [
    "data_top_low"
   ]
  },
  {
   "cell_type": "markdown",
   "id": "70168b92",
   "metadata": {},
   "source": [
    "Посмотрим какое количество продуктов чаще всего встречается в категории A по группе"
   ]
  },
  {
   "cell_type": "code",
   "execution_count": null,
   "id": "e1be056e",
   "metadata": {},
   "outputs": [],
   "source": [
    "data_top_low_id_group_count = data_top_low.groupby(['id_tov_cl', 'id_tt_cl','group'])['CheckLineUID'].count().reset_index().sort_values(['id_tov_cl','CheckLineUID'], ascending = [False,False])"
   ]
  },
  {
   "cell_type": "markdown",
   "id": "2c4b2713",
   "metadata": {},
   "source": [
    "Для простоты рисовки переведем id товара в string"
   ]
  },
  {
   "cell_type": "code",
   "execution_count": null,
   "id": "6b7bf474",
   "metadata": {},
   "outputs": [],
   "source": [
    "data_top_low_id_group_count = data_top_low_id_group_count.astype({'id_tov_cl':'str'})\n",
    "data_top_low_id_group_count = data_top_low_id_group_count.astype({'id_tt_cl':'str'})"
   ]
  },
  {
   "cell_type": "code",
   "execution_count": null,
   "id": "281fd30e",
   "metadata": {},
   "outputs": [],
   "source": [
    "fig = px.scatter(data_top_low_id_group_count,x = 'id_tov_cl', y ='CheckLineUID',color = 'group')\n",
    "fig.update_layout(\n",
    "    autosize=False,\n",
    "    width=2400,\n",
    "    height=700,)\n",
    "fig.show()"
   ]
  },
  {
   "cell_type": "markdown",
   "id": "e7da6f5e",
   "metadata": {},
   "source": [
    "Явная проблема в товарах категории A, очень много переходов A->C при тренде клиента"
   ]
  },
  {
   "cell_type": "markdown",
   "id": "f97662a6",
   "metadata": {},
   "source": [
    "Количество проблемных точек в рамках нашего исследования"
   ]
  },
  {
   "cell_type": "code",
   "execution_count": null,
   "id": "8b1591ef",
   "metadata": {},
   "outputs": [],
   "source": [
    "data_top_low_id_group_count['id_tov_cl'].nunique()"
   ]
  },
  {
   "cell_type": "markdown",
   "id": "2acfbd6e",
   "metadata": {},
   "source": [
    "Сделаем вспомогательную таблицу для определения общей выручки, которую нам могли оставить эти люди"
   ]
  },
  {
   "cell_type": "code",
   "execution_count": null,
   "id": "ae4f4212",
   "metadata": {},
   "outputs": [],
   "source": [
    "data = data.astype({'id_tov_cl':'str'})\n",
    "data = data.astype({'id_tt_cl':'str'})"
   ]
  },
  {
   "cell_type": "code",
   "execution_count": null,
   "id": "e96fff59",
   "metadata": {
    "scrolled": true
   },
   "outputs": [],
   "source": [
    "data_vspom = data.merge(data_top_low_id_group_count[['id_tov_cl','id_tt_cl','group']], on =['id_tov_cl','id_tt_cl','group'])"
   ]
  },
  {
   "cell_type": "code",
   "execution_count": null,
   "id": "8bc8cf5c",
   "metadata": {},
   "outputs": [],
   "source": [
    "data['BaseSum'].sum()"
   ]
  },
  {
   "cell_type": "code",
   "execution_count": null,
   "id": "40d9d533",
   "metadata": {},
   "outputs": [],
   "source": [
    "32298377.715518482/3155053319.2306204\n",
    "#искомый 1%, который мог конвертнуться в доп средства для сети"
   ]
  },
  {
   "cell_type": "markdown",
   "id": "66a46a37",
   "metadata": {},
   "source": [
    "Проверим сколько денег генерли \"пострадавшие\" люди "
   ]
  },
  {
   "cell_type": "code",
   "execution_count": null,
   "id": "c7af1f2b",
   "metadata": {},
   "outputs": [],
   "source": [
    "data_vspom1 = data.merge(data_vspom['BonusCard_cl'], on = 'BonusCard_cl', how ='inner')"
   ]
  },
  {
   "cell_type": "code",
   "execution_count": null,
   "id": "e091487a",
   "metadata": {},
   "outputs": [],
   "source": [
    "data_vspom1['BaseSum'].sum()"
   ]
  }
 ],
 "metadata": {
  "kernelspec": {
   "display_name": "Python 3 (ipykernel)",
   "language": "python",
   "name": "python3"
  },
  "language_info": {
   "codemirror_mode": {
    "name": "ipython",
    "version": 3
   },
   "file_extension": ".py",
   "mimetype": "text/x-python",
   "name": "python",
   "nbconvert_exporter": "python",
   "pygments_lexer": "ipython3",
   "version": "3.10.4"
  }
 },
 "nbformat": 4,
 "nbformat_minor": 5
}
